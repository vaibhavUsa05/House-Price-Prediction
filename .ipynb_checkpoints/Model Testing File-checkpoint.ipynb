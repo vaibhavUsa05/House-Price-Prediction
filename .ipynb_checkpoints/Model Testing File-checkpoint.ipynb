{
 "cells": [
  {
   "cell_type": "code",
   "execution_count": 10,
   "id": "8a1c65b7",
   "metadata": {},
   "outputs": [],
   "source": [
    "import numpy as np\n",
    "from joblib import dump, load\n",
    "model=load(\"Model.joblib\")"
   ]
  },
  {
   "cell_type": "code",
   "execution_count": 19,
   "id": "e74093bf",
   "metadata": {},
   "outputs": [
    {
     "data": {
      "text/plain": [
       "array([27.873])"
      ]
     },
     "execution_count": 19,
     "metadata": {},
     "output_type": "execute_result"
    }
   ],
   "source": [
    "sample_input=np.array([0.00632 ,18.0 ,2.31 ,0 ,0.538 ,6.575 ,65.2 ,4.0900 ,1 ,296, 15.3 ,396.90 ,4.98 ]).reshape(1,-1)\n",
    "model.predict(sample_input)"
   ]
  }
 ],
 "metadata": {
  "kernelspec": {
   "display_name": "Python 3 (ipykernel)",
   "language": "python",
   "name": "python3"
  },
  "language_info": {
   "codemirror_mode": {
    "name": "ipython",
    "version": 3
   },
   "file_extension": ".py",
   "mimetype": "text/x-python",
   "name": "python",
   "nbconvert_exporter": "python",
   "pygments_lexer": "ipython3",
   "version": "3.11.3"
  }
 },
 "nbformat": 4,
 "nbformat_minor": 5
}
